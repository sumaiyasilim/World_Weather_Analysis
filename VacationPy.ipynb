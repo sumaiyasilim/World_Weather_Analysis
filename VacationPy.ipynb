{
 "cells": [
  {
   "cell_type": "code",
   "execution_count": 1,
   "id": "33cc0e97",
   "metadata": {},
   "outputs": [],
   "source": [
    "# Import the dependencies \n",
    "import pandas as pd \n",
    "import gmaps\n",
    "import requests\n",
    "\n",
    "# Import the API Key\n",
    "from config import g_key"
   ]
  },
  {
   "cell_type": "code",
   "execution_count": 2,
   "id": "976362a8",
   "metadata": {},
   "outputs": [
    {
     "data": {
      "text/html": [
       "<div>\n",
       "<style scoped>\n",
       "    .dataframe tbody tr th:only-of-type {\n",
       "        vertical-align: middle;\n",
       "    }\n",
       "\n",
       "    .dataframe tbody tr th {\n",
       "        vertical-align: top;\n",
       "    }\n",
       "\n",
       "    .dataframe thead th {\n",
       "        text-align: right;\n",
       "    }\n",
       "</style>\n",
       "<table border=\"1\" class=\"dataframe\">\n",
       "  <thead>\n",
       "    <tr style=\"text-align: right;\">\n",
       "      <th></th>\n",
       "      <th>City_ID</th>\n",
       "      <th>City</th>\n",
       "      <th>Country</th>\n",
       "      <th>Date</th>\n",
       "      <th>Lat</th>\n",
       "      <th>Lng</th>\n",
       "      <th>Max Temp</th>\n",
       "      <th>Humidity</th>\n",
       "      <th>Cloudiness</th>\n",
       "      <th>Wind Speed</th>\n",
       "    </tr>\n",
       "  </thead>\n",
       "  <tbody>\n",
       "    <tr>\n",
       "      <th>0</th>\n",
       "      <td>0</td>\n",
       "      <td>Kapaa</td>\n",
       "      <td>US</td>\n",
       "      <td>2022-06-09 21:50:55</td>\n",
       "      <td>22.0752</td>\n",
       "      <td>-159.3190</td>\n",
       "      <td>82.47</td>\n",
       "      <td>72</td>\n",
       "      <td>20</td>\n",
       "      <td>10.36</td>\n",
       "    </tr>\n",
       "    <tr>\n",
       "      <th>1</th>\n",
       "      <td>1</td>\n",
       "      <td>Touros</td>\n",
       "      <td>BR</td>\n",
       "      <td>2022-06-09 21:59:47</td>\n",
       "      <td>-5.1989</td>\n",
       "      <td>-35.4608</td>\n",
       "      <td>75.65</td>\n",
       "      <td>90</td>\n",
       "      <td>89</td>\n",
       "      <td>8.75</td>\n",
       "    </tr>\n",
       "    <tr>\n",
       "      <th>2</th>\n",
       "      <td>2</td>\n",
       "      <td>Cidreira</td>\n",
       "      <td>BR</td>\n",
       "      <td>2022-06-09 21:54:54</td>\n",
       "      <td>-30.1811</td>\n",
       "      <td>-50.2056</td>\n",
       "      <td>63.99</td>\n",
       "      <td>85</td>\n",
       "      <td>96</td>\n",
       "      <td>14.76</td>\n",
       "    </tr>\n",
       "    <tr>\n",
       "      <th>3</th>\n",
       "      <td>3</td>\n",
       "      <td>Madang</td>\n",
       "      <td>PG</td>\n",
       "      <td>2022-06-09 21:59:48</td>\n",
       "      <td>-5.2246</td>\n",
       "      <td>145.7966</td>\n",
       "      <td>77.04</td>\n",
       "      <td>89</td>\n",
       "      <td>54</td>\n",
       "      <td>4.09</td>\n",
       "    </tr>\n",
       "    <tr>\n",
       "      <th>4</th>\n",
       "      <td>4</td>\n",
       "      <td>Placido De Castro</td>\n",
       "      <td>BR</td>\n",
       "      <td>2022-06-09 21:59:48</td>\n",
       "      <td>-10.3353</td>\n",
       "      <td>-67.1856</td>\n",
       "      <td>75.06</td>\n",
       "      <td>95</td>\n",
       "      <td>89</td>\n",
       "      <td>1.81</td>\n",
       "    </tr>\n",
       "  </tbody>\n",
       "</table>\n",
       "</div>"
      ],
      "text/plain": [
       "   City_ID               City Country                 Date      Lat       Lng  \\\n",
       "0        0              Kapaa      US  2022-06-09 21:50:55  22.0752 -159.3190   \n",
       "1        1             Touros      BR  2022-06-09 21:59:47  -5.1989  -35.4608   \n",
       "2        2           Cidreira      BR  2022-06-09 21:54:54 -30.1811  -50.2056   \n",
       "3        3             Madang      PG  2022-06-09 21:59:48  -5.2246  145.7966   \n",
       "4        4  Placido De Castro      BR  2022-06-09 21:59:48 -10.3353  -67.1856   \n",
       "\n",
       "   Max Temp  Humidity  Cloudiness  Wind Speed  \n",
       "0     82.47        72          20       10.36  \n",
       "1     75.65        90          89        8.75  \n",
       "2     63.99        85          96       14.76  \n",
       "3     77.04        89          54        4.09  \n",
       "4     75.06        95          89        1.81  "
      ]
     },
     "execution_count": 2,
     "metadata": {},
     "output_type": "execute_result"
    }
   ],
   "source": [
    "# Store the CSV you saved created in part one into a DataFrame\n",
    "city_data_df = pd.read_csv(\"weather_data/cities.csv\")\n",
    "city_data_df.head()"
   ]
  },
  {
   "cell_type": "code",
   "execution_count": 3,
   "id": "2c78c27a",
   "metadata": {},
   "outputs": [
    {
     "data": {
      "text/plain": [
       "City_ID         int64\n",
       "City           object\n",
       "Country        object\n",
       "Date           object\n",
       "Lat           float64\n",
       "Lng           float64\n",
       "Max Temp      float64\n",
       "Humidity        int64\n",
       "Cloudiness      int64\n",
       "Wind Speed    float64\n",
       "dtype: object"
      ]
     },
     "execution_count": 3,
     "metadata": {},
     "output_type": "execute_result"
    }
   ],
   "source": [
    "# Get the data types\n",
    "city_data_df.dtypes"
   ]
  },
  {
   "cell_type": "code",
   "execution_count": 4,
   "id": "216ee0f5",
   "metadata": {},
   "outputs": [],
   "source": [
    "# Configure gmaps to use your Google API key\n",
    "gmaps.configure(api_key=g_key)"
   ]
  },
  {
   "cell_type": "code",
   "execution_count": 5,
   "id": "8f3f02a4",
   "metadata": {},
   "outputs": [
    {
     "name": "stderr",
     "output_type": "stream",
     "text": [
      "Enabling notebook extension jupyter-gmaps/extension...\n",
      "      - Validating: ok\n"
     ]
    }
   ],
   "source": [
    "!jupyter nbextension enable --py gmaps"
   ]
  },
  {
   "cell_type": "code",
   "execution_count": 6,
   "id": "dcccbbd2",
   "metadata": {},
   "outputs": [
    {
     "name": "stderr",
     "output_type": "stream",
     "text": [
      "Enabling notebook extension jupyter-js-widgets/extension...\n",
      "      - Validating: ok\n"
     ]
    }
   ],
   "source": [
    "!jupyter nbextension enable --py widgetsnbextension"
   ]
  },
  {
   "cell_type": "code",
   "execution_count": 8,
   "id": "1680019b",
   "metadata": {},
   "outputs": [],
   "source": [
    "# Get the maximum temperature \n",
    "max_temp = city_data_df[\"Max Temp\"]\n",
    "temps = []\n",
    "for temp in max_temp:\n",
    "    temps.append(max(temp, 0))"
   ]
  },
  {
   "cell_type": "code",
   "execution_count": 13,
   "id": "badbbcee",
   "metadata": {},
   "outputs": [
    {
     "data": {
      "application/vnd.jupyter.widget-view+json": {
       "model_id": "abc5e2bde2eb40aea34cdcb82ad9869f",
       "version_major": 2,
       "version_minor": 0
      },
      "text/plain": [
       "Figure(layout=FigureLayout(height='420px'))"
      ]
     },
     "metadata": {},
     "output_type": "display_data"
    }
   ],
   "source": [
    "# Heatmap of temperature\n",
    "# Get the latitude and longitude \n",
    "locations = city_data_df[[\"Lat\", \"Lng\"]]\n",
    "\n",
    "# Get the maximum temperature \n",
    "max_temp = city_data_df[\"Max Temp\"]\n",
    "\n",
    "# Assign the figure variable\n",
    "fig = gmaps.figure(center=(30.0, 31.0), zoom_level=1.5)\n",
    "\n",
    "# Assign the heatmap variable\n",
    "heat_layer = gmaps.heatmap_layer(locations, weights=[max(temp,0) for temp in max_temp], dissipating=False, max_intensity=300, point_radius=4)\n",
    "\n",
    "# Add the heatmap layer\n",
    "fig.add_layer(heat_layer)\n",
    "\n",
    "# Call the figure to plot the data\n",
    "fig"
   ]
  },
  {
   "cell_type": "code",
   "execution_count": 14,
   "id": "1ce58ae8",
   "metadata": {},
   "outputs": [
    {
     "data": {
      "application/vnd.jupyter.widget-view+json": {
       "model_id": "b4ff322ceab54c71bb9af4f27c2a0872",
       "version_major": 2,
       "version_minor": 0
      },
      "text/plain": [
       "Figure(layout=FigureLayout(height='420px'))"
      ]
     },
     "metadata": {},
     "output_type": "display_data"
    }
   ],
   "source": [
    "# Heatmap of percent humidity\n",
    "locations = city_data_df[[\"Lat\", \"Lng\"]]\n",
    "\n",
    "humidity = city_data_df[\"Humidity\"]\n",
    "\n",
    "fig = gmaps.figure(center=(30.0, 31.0), zoom_level=1.5)\n",
    "\n",
    "heat_layer = gmaps.heatmap_layer(locations, weights=humidity, dissipating=False, max_intensity=300, point_radius=4)\n",
    "\n",
    "fig.add_layer(heat_layer)\n",
    "\n",
    "# Call the figure to plot the data\n",
    "fig"
   ]
  },
  {
   "cell_type": "code",
   "execution_count": 15,
   "id": "7a1e70d7",
   "metadata": {},
   "outputs": [
    {
     "data": {
      "application/vnd.jupyter.widget-view+json": {
       "model_id": "803a7a2cbfc4453fbbb607028de55f20",
       "version_major": 2,
       "version_minor": 0
      },
      "text/plain": [
       "Figure(layout=FigureLayout(height='420px'))"
      ]
     },
     "metadata": {},
     "output_type": "display_data"
    }
   ],
   "source": [
    "# Heatmap of percent humidity\n",
    "locations = city_data_df[[\"Lat\", \"Lng\"]]\n",
    "\n",
    "clouds = city_data_df[\"Cloudiness\"]\n",
    "\n",
    "fig = gmaps.figure(center=(30.0, 31.0), zoom_level=1.5)\n",
    "\n",
    "heat_layer = gmaps.heatmap_layer(locations, weights=clouds, dissipating=False, max_intensity=300, point_radius=4)\n",
    "\n",
    "fig.add_layer(heat_layer)\n",
    "\n",
    "# Call the figure to plot the data\n",
    "fig"
   ]
  },
  {
   "cell_type": "code",
   "execution_count": 16,
   "id": "80f47c5a",
   "metadata": {},
   "outputs": [
    {
     "data": {
      "application/vnd.jupyter.widget-view+json": {
       "model_id": "4385db0d1f3e4d6db46f58c675dd1e94",
       "version_major": 2,
       "version_minor": 0
      },
      "text/plain": [
       "Figure(layout=FigureLayout(height='420px'))"
      ]
     },
     "metadata": {},
     "output_type": "display_data"
    }
   ],
   "source": [
    "# Heatmap of percent humidity\n",
    "locations = city_data_df[[\"Lat\", \"Lng\"]]\n",
    "\n",
    "wind = city_data_df[\"Wind Speed\"]\n",
    "\n",
    "fig = gmaps.figure(center=(30.0, 31.0), zoom_level=1.5)\n",
    "\n",
    "heat_layer = gmaps.heatmap_layer(locations, weights=wind, dissipating=False, max_intensity=300, point_radius=4)\n",
    "\n",
    "fig.add_layer(heat_layer)\n",
    "\n",
    "# Call the figure to plot the data\n",
    "fig"
   ]
  },
  {
   "cell_type": "code",
   "execution_count": 17,
   "id": "9bcae484",
   "metadata": {},
   "outputs": [
    {
     "name": "stdout",
     "output_type": "stream",
     "text": [
      "What is the minimum temperature you would like for your trip? 75\n",
      "What is the maximum temperature you would like for your trip? 90\n"
     ]
    }
   ],
   "source": [
    "# ask the customer to add a minimum and maximum temperature value\n",
    "min_temp = float(input(\"What is the minimum temperature you would like for your trip? \"))\n",
    "max_temp = float(input(\"What is the maximum temperature you would like for your trip? \"))"
   ]
  },
  {
   "cell_type": "code",
   "execution_count": 18,
   "id": "b29237f6",
   "metadata": {},
   "outputs": [
    {
     "data": {
      "text/html": [
       "<div>\n",
       "<style scoped>\n",
       "    .dataframe tbody tr th:only-of-type {\n",
       "        vertical-align: middle;\n",
       "    }\n",
       "\n",
       "    .dataframe tbody tr th {\n",
       "        vertical-align: top;\n",
       "    }\n",
       "\n",
       "    .dataframe thead th {\n",
       "        text-align: right;\n",
       "    }\n",
       "</style>\n",
       "<table border=\"1\" class=\"dataframe\">\n",
       "  <thead>\n",
       "    <tr style=\"text-align: right;\">\n",
       "      <th></th>\n",
       "      <th>City_ID</th>\n",
       "      <th>City</th>\n",
       "      <th>Country</th>\n",
       "      <th>Date</th>\n",
       "      <th>Lat</th>\n",
       "      <th>Lng</th>\n",
       "      <th>Max Temp</th>\n",
       "      <th>Humidity</th>\n",
       "      <th>Cloudiness</th>\n",
       "      <th>Wind Speed</th>\n",
       "    </tr>\n",
       "  </thead>\n",
       "  <tbody>\n",
       "    <tr>\n",
       "      <th>0</th>\n",
       "      <td>0</td>\n",
       "      <td>Kapaa</td>\n",
       "      <td>US</td>\n",
       "      <td>2022-06-09 21:50:55</td>\n",
       "      <td>22.0752</td>\n",
       "      <td>-159.3190</td>\n",
       "      <td>82.47</td>\n",
       "      <td>72</td>\n",
       "      <td>20</td>\n",
       "      <td>10.36</td>\n",
       "    </tr>\n",
       "    <tr>\n",
       "      <th>1</th>\n",
       "      <td>1</td>\n",
       "      <td>Touros</td>\n",
       "      <td>BR</td>\n",
       "      <td>2022-06-09 21:59:47</td>\n",
       "      <td>-5.1989</td>\n",
       "      <td>-35.4608</td>\n",
       "      <td>75.65</td>\n",
       "      <td>90</td>\n",
       "      <td>89</td>\n",
       "      <td>8.75</td>\n",
       "    </tr>\n",
       "    <tr>\n",
       "      <th>3</th>\n",
       "      <td>3</td>\n",
       "      <td>Madang</td>\n",
       "      <td>PG</td>\n",
       "      <td>2022-06-09 21:59:48</td>\n",
       "      <td>-5.2246</td>\n",
       "      <td>145.7966</td>\n",
       "      <td>77.04</td>\n",
       "      <td>89</td>\n",
       "      <td>54</td>\n",
       "      <td>4.09</td>\n",
       "    </tr>\n",
       "    <tr>\n",
       "      <th>4</th>\n",
       "      <td>4</td>\n",
       "      <td>Placido De Castro</td>\n",
       "      <td>BR</td>\n",
       "      <td>2022-06-09 21:59:48</td>\n",
       "      <td>-10.3353</td>\n",
       "      <td>-67.1856</td>\n",
       "      <td>75.06</td>\n",
       "      <td>95</td>\n",
       "      <td>89</td>\n",
       "      <td>1.81</td>\n",
       "    </tr>\n",
       "    <tr>\n",
       "      <th>5</th>\n",
       "      <td>5</td>\n",
       "      <td>Hilo</td>\n",
       "      <td>US</td>\n",
       "      <td>2022-06-09 21:52:03</td>\n",
       "      <td>19.7297</td>\n",
       "      <td>-155.0900</td>\n",
       "      <td>82.27</td>\n",
       "      <td>86</td>\n",
       "      <td>100</td>\n",
       "      <td>10.00</td>\n",
       "    </tr>\n",
       "    <tr>\n",
       "      <th>6</th>\n",
       "      <td>6</td>\n",
       "      <td>Mecca</td>\n",
       "      <td>SA</td>\n",
       "      <td>2022-06-09 21:58:28</td>\n",
       "      <td>21.4267</td>\n",
       "      <td>39.8261</td>\n",
       "      <td>89.26</td>\n",
       "      <td>39</td>\n",
       "      <td>3</td>\n",
       "      <td>2.44</td>\n",
       "    </tr>\n",
       "    <tr>\n",
       "      <th>12</th>\n",
       "      <td>12</td>\n",
       "      <td>Cabedelo</td>\n",
       "      <td>BR</td>\n",
       "      <td>2022-06-09 21:59:49</td>\n",
       "      <td>-6.9811</td>\n",
       "      <td>-34.8339</td>\n",
       "      <td>75.87</td>\n",
       "      <td>82</td>\n",
       "      <td>100</td>\n",
       "      <td>10.16</td>\n",
       "    </tr>\n",
       "    <tr>\n",
       "      <th>30</th>\n",
       "      <td>30</td>\n",
       "      <td>Marzuq</td>\n",
       "      <td>YE</td>\n",
       "      <td>2022-06-09 21:59:53</td>\n",
       "      <td>14.4000</td>\n",
       "      <td>46.4667</td>\n",
       "      <td>78.19</td>\n",
       "      <td>43</td>\n",
       "      <td>9</td>\n",
       "      <td>3.69</td>\n",
       "    </tr>\n",
       "    <tr>\n",
       "      <th>40</th>\n",
       "      <td>40</td>\n",
       "      <td>Puerto Ayora</td>\n",
       "      <td>EC</td>\n",
       "      <td>2022-06-09 21:50:52</td>\n",
       "      <td>-0.7393</td>\n",
       "      <td>-90.3518</td>\n",
       "      <td>78.76</td>\n",
       "      <td>75</td>\n",
       "      <td>100</td>\n",
       "      <td>9.22</td>\n",
       "    </tr>\n",
       "    <tr>\n",
       "      <th>45</th>\n",
       "      <td>45</td>\n",
       "      <td>Atuona</td>\n",
       "      <td>PF</td>\n",
       "      <td>2022-06-09 21:53:17</td>\n",
       "      <td>-9.8000</td>\n",
       "      <td>-139.0333</td>\n",
       "      <td>78.21</td>\n",
       "      <td>67</td>\n",
       "      <td>9</td>\n",
       "      <td>16.26</td>\n",
       "    </tr>\n",
       "  </tbody>\n",
       "</table>\n",
       "</div>"
      ],
      "text/plain": [
       "    City_ID               City Country                 Date      Lat  \\\n",
       "0         0              Kapaa      US  2022-06-09 21:50:55  22.0752   \n",
       "1         1             Touros      BR  2022-06-09 21:59:47  -5.1989   \n",
       "3         3             Madang      PG  2022-06-09 21:59:48  -5.2246   \n",
       "4         4  Placido De Castro      BR  2022-06-09 21:59:48 -10.3353   \n",
       "5         5               Hilo      US  2022-06-09 21:52:03  19.7297   \n",
       "6         6              Mecca      SA  2022-06-09 21:58:28  21.4267   \n",
       "12       12           Cabedelo      BR  2022-06-09 21:59:49  -6.9811   \n",
       "30       30             Marzuq      YE  2022-06-09 21:59:53  14.4000   \n",
       "40       40       Puerto Ayora      EC  2022-06-09 21:50:52  -0.7393   \n",
       "45       45             Atuona      PF  2022-06-09 21:53:17  -9.8000   \n",
       "\n",
       "         Lng  Max Temp  Humidity  Cloudiness  Wind Speed  \n",
       "0  -159.3190     82.47        72          20       10.36  \n",
       "1   -35.4608     75.65        90          89        8.75  \n",
       "3   145.7966     77.04        89          54        4.09  \n",
       "4   -67.1856     75.06        95          89        1.81  \n",
       "5  -155.0900     82.27        86         100       10.00  \n",
       "6    39.8261     89.26        39           3        2.44  \n",
       "12  -34.8339     75.87        82         100       10.16  \n",
       "30   46.4667     78.19        43           9        3.69  \n",
       "40  -90.3518     78.76        75         100        9.22  \n",
       "45 -139.0333     78.21        67           9       16.26  "
      ]
     },
     "execution_count": 18,
     "metadata": {},
     "output_type": "execute_result"
    }
   ],
   "source": [
    "# Filter the dataset to find the cities that fit the criteria \n",
    "preferred_cities_df = city_data_df.loc[(city_data_df[\"Max Temp\"] <= max_temp) & \\\n",
    "                                      (city_data_df[\"Max Temp\"] >= min_temp)]\n",
    "preferred_cities_df.head(10)"
   ]
  },
  {
   "cell_type": "code",
   "execution_count": 19,
   "id": "078165a9",
   "metadata": {},
   "outputs": [
    {
     "data": {
      "text/plain": [
       "City_ID       178\n",
       "City          178\n",
       "Country       178\n",
       "Date          178\n",
       "Lat           178\n",
       "Lng           178\n",
       "Max Temp      178\n",
       "Humidity      178\n",
       "Cloudiness    178\n",
       "Wind Speed    178\n",
       "dtype: int64"
      ]
     },
     "execution_count": 19,
     "metadata": {},
     "output_type": "execute_result"
    }
   ],
   "source": [
    "preferred_cities_df.count()"
   ]
  },
  {
   "cell_type": "code",
   "execution_count": 20,
   "id": "b50f0f2f",
   "metadata": {},
   "outputs": [
    {
     "data": {
      "text/html": [
       "<div>\n",
       "<style scoped>\n",
       "    .dataframe tbody tr th:only-of-type {\n",
       "        vertical-align: middle;\n",
       "    }\n",
       "\n",
       "    .dataframe tbody tr th {\n",
       "        vertical-align: top;\n",
       "    }\n",
       "\n",
       "    .dataframe thead th {\n",
       "        text-align: right;\n",
       "    }\n",
       "</style>\n",
       "<table border=\"1\" class=\"dataframe\">\n",
       "  <thead>\n",
       "    <tr style=\"text-align: right;\">\n",
       "      <th></th>\n",
       "      <th>City</th>\n",
       "      <th>Country</th>\n",
       "      <th>Max Temp</th>\n",
       "      <th>Lat</th>\n",
       "      <th>Lng</th>\n",
       "      <th>Hotel Name</th>\n",
       "    </tr>\n",
       "  </thead>\n",
       "  <tbody>\n",
       "    <tr>\n",
       "      <th>0</th>\n",
       "      <td>Kapaa</td>\n",
       "      <td>US</td>\n",
       "      <td>82.47</td>\n",
       "      <td>22.0752</td>\n",
       "      <td>-159.3190</td>\n",
       "      <td></td>\n",
       "    </tr>\n",
       "    <tr>\n",
       "      <th>1</th>\n",
       "      <td>Touros</td>\n",
       "      <td>BR</td>\n",
       "      <td>75.65</td>\n",
       "      <td>-5.1989</td>\n",
       "      <td>-35.4608</td>\n",
       "      <td></td>\n",
       "    </tr>\n",
       "    <tr>\n",
       "      <th>3</th>\n",
       "      <td>Madang</td>\n",
       "      <td>PG</td>\n",
       "      <td>77.04</td>\n",
       "      <td>-5.2246</td>\n",
       "      <td>145.7966</td>\n",
       "      <td></td>\n",
       "    </tr>\n",
       "    <tr>\n",
       "      <th>4</th>\n",
       "      <td>Placido De Castro</td>\n",
       "      <td>BR</td>\n",
       "      <td>75.06</td>\n",
       "      <td>-10.3353</td>\n",
       "      <td>-67.1856</td>\n",
       "      <td></td>\n",
       "    </tr>\n",
       "    <tr>\n",
       "      <th>5</th>\n",
       "      <td>Hilo</td>\n",
       "      <td>US</td>\n",
       "      <td>82.27</td>\n",
       "      <td>19.7297</td>\n",
       "      <td>-155.0900</td>\n",
       "      <td></td>\n",
       "    </tr>\n",
       "    <tr>\n",
       "      <th>6</th>\n",
       "      <td>Mecca</td>\n",
       "      <td>SA</td>\n",
       "      <td>89.26</td>\n",
       "      <td>21.4267</td>\n",
       "      <td>39.8261</td>\n",
       "      <td></td>\n",
       "    </tr>\n",
       "    <tr>\n",
       "      <th>12</th>\n",
       "      <td>Cabedelo</td>\n",
       "      <td>BR</td>\n",
       "      <td>75.87</td>\n",
       "      <td>-6.9811</td>\n",
       "      <td>-34.8339</td>\n",
       "      <td></td>\n",
       "    </tr>\n",
       "    <tr>\n",
       "      <th>30</th>\n",
       "      <td>Marzuq</td>\n",
       "      <td>YE</td>\n",
       "      <td>78.19</td>\n",
       "      <td>14.4000</td>\n",
       "      <td>46.4667</td>\n",
       "      <td></td>\n",
       "    </tr>\n",
       "    <tr>\n",
       "      <th>40</th>\n",
       "      <td>Puerto Ayora</td>\n",
       "      <td>EC</td>\n",
       "      <td>78.76</td>\n",
       "      <td>-0.7393</td>\n",
       "      <td>-90.3518</td>\n",
       "      <td></td>\n",
       "    </tr>\n",
       "    <tr>\n",
       "      <th>45</th>\n",
       "      <td>Atuona</td>\n",
       "      <td>PF</td>\n",
       "      <td>78.21</td>\n",
       "      <td>-9.8000</td>\n",
       "      <td>-139.0333</td>\n",
       "      <td></td>\n",
       "    </tr>\n",
       "  </tbody>\n",
       "</table>\n",
       "</div>"
      ],
      "text/plain": [
       "                 City Country  Max Temp      Lat       Lng Hotel Name\n",
       "0               Kapaa      US     82.47  22.0752 -159.3190           \n",
       "1              Touros      BR     75.65  -5.1989  -35.4608           \n",
       "3              Madang      PG     77.04  -5.2246  145.7966           \n",
       "4   Placido De Castro      BR     75.06 -10.3353  -67.1856           \n",
       "5                Hilo      US     82.27  19.7297 -155.0900           \n",
       "6               Mecca      SA     89.26  21.4267   39.8261           \n",
       "12           Cabedelo      BR     75.87  -6.9811  -34.8339           \n",
       "30             Marzuq      YE     78.19  14.4000   46.4667           \n",
       "40       Puerto Ayora      EC     78.76  -0.7393  -90.3518           \n",
       "45             Atuona      PF     78.21  -9.8000 -139.0333           "
      ]
     },
     "execution_count": 20,
     "metadata": {},
     "output_type": "execute_result"
    }
   ],
   "source": [
    "# Create DataFrame called hotel_df to store hotel names along with city, country, max temp, and coordinates\n",
    "hotel_df = preferred_cities_df[[\"City\", \"Country\", \"Max Temp\", \"Lat\", \"Lng\"]].copy()\n",
    "hotel_df[\"Hotel Name\"] = \"\"\n",
    "hotel_df.head(10)"
   ]
  },
  {
   "cell_type": "code",
   "execution_count": 25,
   "id": "3df532a0",
   "metadata": {},
   "outputs": [],
   "source": [
    "# Set parameters to search for a hotel\n",
    "params = {\n",
    "    \"radius\": 5000,\n",
    "    \"type\": \"lodging\",\n",
    "    \"key\": g_key\n",
    "}"
   ]
  },
  {
   "cell_type": "code",
   "execution_count": 27,
   "id": "d14c296c",
   "metadata": {},
   "outputs": [
    {
     "name": "stdout",
     "output_type": "stream",
     "text": [
      "Hotel not found... skipping.\n",
      "Hotel not found... skipping.\n",
      "Hotel not found... skipping.\n",
      "Hotel not found... skipping.\n",
      "Hotel not found... skipping.\n",
      "Hotel not found... skipping.\n",
      "Hotel not found... skipping.\n",
      "Hotel not found... skipping.\n",
      "Hotel not found... skipping.\n",
      "Hotel not found... skipping.\n",
      "Hotel not found... skipping.\n",
      "Hotel not found... skipping.\n"
     ]
    }
   ],
   "source": [
    "# Iterate through the DataFrame.\n",
    "for index, row in hotel_df.iterrows():\n",
    "    # Get the latitude and longitude.\n",
    "    lat = row[\"Lat\"]\n",
    "    lng = row[\"Lng\"]\n",
    "\n",
    "    # Add the latitude and longitude to location key for the params dictionary.\n",
    "    params[\"location\"] = f\"{lat},{lng}\"\n",
    "\n",
    "    # Use the search term: \"lodging\" and our latitude and longitude.\n",
    "    base_url = \"https://maps.googleapis.com/maps/api/place/nearbysearch/json\"\n",
    "    # Make request and get the JSON data from the search.\n",
    "    hotels = requests.get(base_url, params=params).json()\n",
    "    # Grab the first hotel from the results and store the name.\n",
    "    try:\n",
    "        hotel_df.loc[index, \"Hotel Name\"] = hotels[\"results\"][0][\"name\"]\n",
    "    except (IndexError):\n",
    "        print(\"Hotel not found... skipping.\")"
   ]
  },
  {
   "cell_type": "code",
   "execution_count": 29,
   "id": "08f79ee2",
   "metadata": {},
   "outputs": [
    {
     "data": {
      "text/html": [
       "<div>\n",
       "<style scoped>\n",
       "    .dataframe tbody tr th:only-of-type {\n",
       "        vertical-align: middle;\n",
       "    }\n",
       "\n",
       "    .dataframe tbody tr th {\n",
       "        vertical-align: top;\n",
       "    }\n",
       "\n",
       "    .dataframe thead th {\n",
       "        text-align: right;\n",
       "    }\n",
       "</style>\n",
       "<table border=\"1\" class=\"dataframe\">\n",
       "  <thead>\n",
       "    <tr style=\"text-align: right;\">\n",
       "      <th></th>\n",
       "      <th>City</th>\n",
       "      <th>Country</th>\n",
       "      <th>Max Temp</th>\n",
       "      <th>Lat</th>\n",
       "      <th>Lng</th>\n",
       "      <th>Hotel Name</th>\n",
       "    </tr>\n",
       "  </thead>\n",
       "  <tbody>\n",
       "    <tr>\n",
       "      <th>0</th>\n",
       "      <td>Kapaa</td>\n",
       "      <td>US</td>\n",
       "      <td>82.47</td>\n",
       "      <td>22.0752</td>\n",
       "      <td>-159.3190</td>\n",
       "      <td>Sheraton Kauai Coconut Beach Resort</td>\n",
       "    </tr>\n",
       "    <tr>\n",
       "      <th>1</th>\n",
       "      <td>Touros</td>\n",
       "      <td>BR</td>\n",
       "      <td>75.65</td>\n",
       "      <td>-5.1989</td>\n",
       "      <td>-35.4608</td>\n",
       "      <td>INN NEW HORIZON</td>\n",
       "    </tr>\n",
       "    <tr>\n",
       "      <th>3</th>\n",
       "      <td>Madang</td>\n",
       "      <td>PG</td>\n",
       "      <td>77.04</td>\n",
       "      <td>-5.2246</td>\n",
       "      <td>145.7966</td>\n",
       "      <td>Comfort Inn Hotel</td>\n",
       "    </tr>\n",
       "    <tr>\n",
       "      <th>4</th>\n",
       "      <td>Placido De Castro</td>\n",
       "      <td>BR</td>\n",
       "      <td>75.06</td>\n",
       "      <td>-10.3353</td>\n",
       "      <td>-67.1856</td>\n",
       "      <td>Hotel Carioca</td>\n",
       "    </tr>\n",
       "    <tr>\n",
       "      <th>5</th>\n",
       "      <td>Hilo</td>\n",
       "      <td>US</td>\n",
       "      <td>82.27</td>\n",
       "      <td>19.7297</td>\n",
       "      <td>-155.0900</td>\n",
       "      <td>Hilo Hawaiian Hotel</td>\n",
       "    </tr>\n",
       "    <tr>\n",
       "      <th>6</th>\n",
       "      <td>Mecca</td>\n",
       "      <td>SA</td>\n",
       "      <td>89.26</td>\n",
       "      <td>21.4267</td>\n",
       "      <td>39.8261</td>\n",
       "      <td>Makkah Clock Royal Tower, A Fairmont Hotel</td>\n",
       "    </tr>\n",
       "    <tr>\n",
       "      <th>12</th>\n",
       "      <td>Cabedelo</td>\n",
       "      <td>BR</td>\n",
       "      <td>75.87</td>\n",
       "      <td>-6.9811</td>\n",
       "      <td>-34.8339</td>\n",
       "      <td>Pousada Camboinha</td>\n",
       "    </tr>\n",
       "    <tr>\n",
       "      <th>30</th>\n",
       "      <td>Marzuq</td>\n",
       "      <td>YE</td>\n",
       "      <td>78.19</td>\n",
       "      <td>14.4000</td>\n",
       "      <td>46.4667</td>\n",
       "      <td></td>\n",
       "    </tr>\n",
       "    <tr>\n",
       "      <th>40</th>\n",
       "      <td>Puerto Ayora</td>\n",
       "      <td>EC</td>\n",
       "      <td>78.76</td>\n",
       "      <td>-0.7393</td>\n",
       "      <td>-90.3518</td>\n",
       "      <td>Finch Bay Galapagos Hotel</td>\n",
       "    </tr>\n",
       "    <tr>\n",
       "      <th>45</th>\n",
       "      <td>Atuona</td>\n",
       "      <td>PF</td>\n",
       "      <td>78.21</td>\n",
       "      <td>-9.8000</td>\n",
       "      <td>-139.0333</td>\n",
       "      <td>Villa Enata</td>\n",
       "    </tr>\n",
       "  </tbody>\n",
       "</table>\n",
       "</div>"
      ],
      "text/plain": [
       "                 City Country  Max Temp      Lat       Lng  \\\n",
       "0               Kapaa      US     82.47  22.0752 -159.3190   \n",
       "1              Touros      BR     75.65  -5.1989  -35.4608   \n",
       "3              Madang      PG     77.04  -5.2246  145.7966   \n",
       "4   Placido De Castro      BR     75.06 -10.3353  -67.1856   \n",
       "5                Hilo      US     82.27  19.7297 -155.0900   \n",
       "6               Mecca      SA     89.26  21.4267   39.8261   \n",
       "12           Cabedelo      BR     75.87  -6.9811  -34.8339   \n",
       "30             Marzuq      YE     78.19  14.4000   46.4667   \n",
       "40       Puerto Ayora      EC     78.76  -0.7393  -90.3518   \n",
       "45             Atuona      PF     78.21  -9.8000 -139.0333   \n",
       "\n",
       "                                    Hotel Name  \n",
       "0          Sheraton Kauai Coconut Beach Resort  \n",
       "1                              INN NEW HORIZON  \n",
       "3                            Comfort Inn Hotel  \n",
       "4                                Hotel Carioca  \n",
       "5                          Hilo Hawaiian Hotel  \n",
       "6   Makkah Clock Royal Tower, A Fairmont Hotel  \n",
       "12                           Pousada Camboinha  \n",
       "30                                              \n",
       "40                   Finch Bay Galapagos Hotel  \n",
       "45                                 Villa Enata  "
      ]
     },
     "execution_count": 29,
     "metadata": {},
     "output_type": "execute_result"
    }
   ],
   "source": [
    "hotel_df.head(10)"
   ]
  },
  {
   "cell_type": "code",
   "execution_count": 30,
   "id": "d90d29b4",
   "metadata": {},
   "outputs": [
    {
     "data": {
      "application/vnd.jupyter.widget-view+json": {
       "model_id": "4b4179aa2b6d4ce9ae7a1d48b0e4b062",
       "version_major": 2,
       "version_minor": 0
      },
      "text/plain": [
       "Figure(layout=FigureLayout(height='420px'))"
      ]
     },
     "metadata": {},
     "output_type": "display_data"
    }
   ],
   "source": [
    "# Add a heatmap of temperature for the vacation spots.\n",
    "locations = hotel_df[[\"Lat\", \"Lng\"]]\n",
    "max_temp = hotel_df[\"Max Temp\"]\n",
    "fig = gmaps.figure(center=(30.0, 31.0), zoom_level=1.5)\n",
    "heat_layer = gmaps.heatmap_layer(locations, weights=max_temp, dissipating=False,\n",
    "             max_intensity=300, point_radius=4)\n",
    "\n",
    "fig.add_layer(heat_layer)\n",
    "# Call the figure to plot the data.\n",
    "fig"
   ]
  },
  {
   "cell_type": "code",
   "execution_count": 31,
   "id": "fac09403",
   "metadata": {},
   "outputs": [
    {
     "data": {
      "application/vnd.jupyter.widget-view+json": {
       "model_id": "fec5f5e186b0443e860277a5d5aca51a",
       "version_major": 2,
       "version_minor": 0
      },
      "text/plain": [
       "Figure(layout=FigureLayout(height='420px'))"
      ]
     },
     "metadata": {},
     "output_type": "display_data"
    }
   ],
   "source": [
    "# Add a heatmap of temperature for the vacation spots and marker for each city.\n",
    "locations = hotel_df[[\"Lat\", \"Lng\"]]\n",
    "max_temp = hotel_df[\"Max Temp\"]\n",
    "fig = gmaps.figure(center=(30.0, 31.0), zoom_level=1.5)\n",
    "heat_layer = gmaps.heatmap_layer(locations, weights=max_temp,\n",
    "             dissipating=False, max_intensity=300, point_radius=4)\n",
    "marker_layer = gmaps.marker_layer(locations)\n",
    "fig.add_layer(heat_layer)\n",
    "fig.add_layer(marker_layer)\n",
    "# Call the figure to plot the data.\n",
    "fig"
   ]
  },
  {
   "cell_type": "code",
   "execution_count": 32,
   "id": "61e753da",
   "metadata": {},
   "outputs": [],
   "source": [
    "info_box_template = \"\"\"\n",
    "<dl>\n",
    "<dt>Hotel Name</dt><dd>{Hotel Name}</dd>\n",
    "<dt>City</dt><dd>{City}</dd>\n",
    "<dt>Country</dt><dd>{Country}</dd>\n",
    "<dt>Max Temp</dt><dd>{Max Temp} °F</dd>\n",
    "</dl>\n",
    "\"\"\""
   ]
  },
  {
   "cell_type": "code",
   "execution_count": null,
   "id": "089c4a4a",
   "metadata": {},
   "outputs": [],
   "source": []
  }
 ],
 "metadata": {
  "kernelspec": {
   "display_name": "PythonData",
   "language": "python",
   "name": "pythondata"
  },
  "language_info": {
   "codemirror_mode": {
    "name": "ipython",
    "version": 3
   },
   "file_extension": ".py",
   "mimetype": "text/x-python",
   "name": "python",
   "nbconvert_exporter": "python",
   "pygments_lexer": "ipython3",
   "version": "3.7.13"
  }
 },
 "nbformat": 4,
 "nbformat_minor": 5
}
